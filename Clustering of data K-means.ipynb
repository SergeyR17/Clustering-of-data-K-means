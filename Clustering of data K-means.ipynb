{
  "nbformat": 4,
  "nbformat_minor": 0,
  "metadata": {
    "kernelspec": {
      "display_name": "Python 3",
      "language": "python",
      "name": "python3"
    },
    "language_info": {
      "codemirror_mode": {
        "name": "ipython",
        "version": 3
      },
      "file_extension": ".py",
      "mimetype": "text/x-python",
      "name": "python",
      "nbconvert_exporter": "python",
      "pygments_lexer": "ipython3",
      "version": "3.6.10"
    },
    "colab": {
      "name": "Копия блокнота \"Lab.ipynb\"",
      "provenance": [],
      "collapsed_sections": [],
      "toc_visible": true
    }
  },
  "cells": [
    {
      "cell_type": "markdown",
      "metadata": {
        "id": "Szo7A-d_eUXa"
      },
      "source": [
        "## Clustering"
      ]
    },
    {
      "cell_type": "markdown",
      "metadata": {
        "id": "XeNCCXIYeUXi"
      },
      "source": [
        "Sergei R."
      ]
    },
    {
      "cell_type": "markdown",
      "metadata": {
        "id": "96OSsRGqeUXj"
      },
      "source": [
        "## K-Means"
      ]
    },
    {
      "cell_type": "markdown",
      "metadata": {
        "id": "O29mq6TOeUXk"
      },
      "source": [
        "K-Means is a classical clustering algrithm. `K` stands for K clusters and `means` means (yes) that the cluster center is a *mean (average) point* of the cluster. The steps are the following:\n",
        "<ol>\n",
        "    <li>Randomly initialize K cluster centers.</li>\n",
        "    <li>Cluster (label) the data according to the current clusters.</li>\n",
        "    <li>Recalculate cluster centers.</li>\n",
        "    <li>Do steps 2, 3 until convergence. The algorithm is converged when the cluster centers do not change.</li>\n",
        "</ol>"
      ]
    },
    {
      "cell_type": "markdown",
      "metadata": {
        "id": "86uitwBJeUXl"
      },
      "source": [
        "### K-Means implementation"
      ]
    },
    {
      "cell_type": "code",
      "metadata": {
        "id": "CwpNzdZreUXn"
      },
      "source": [
        "! pip install kneed # IF you don't have it \n",
        "\n",
        "import numpy as np\n",
        "import matplotlib.pyplot as plt\n",
        "from mpl_toolkits.mplot3d import Axes3D\n",
        "\n",
        "from sklearn.metrics.cluster import contingency_matrix\n",
        "from sklearn.utils import shuffle\n",
        "from scipy.spatial.distance import euclidean \n",
        "from sklearn.cluster import KMeans\n",
        "from sklearn import datasets\n",
        "import pandas as pd \n",
        " \n",
        "import os.path\n",
        "from kneed import KneeLocator, DataGenerator"
      ],
      "execution_count": null,
      "outputs": []
    },
    {
      "cell_type": "code",
      "metadata": {
        "id": "P_exAKZYeUXp"
      },
      "source": [
        "data_path = \"data_pd.npy\"\n"
      ],
      "execution_count": 2,
      "outputs": []
    },
    {
      "cell_type": "code",
      "metadata": {
        "id": "lBSv6NiHeUXr"
      },
      "source": [
        "# load, transrorm data without labels\n",
        "def load_data(data_path):\n",
        "    data = np.load(\"46.npy\")\n",
        "    X = np.zeros((data.shape[0]*data.shape[1]*data.shape[2],4))\n",
        "\n",
        "    ij=0\n",
        "    for i in range (data.shape[0]):\n",
        "        for j in range (data.shape[1]):\n",
        "            for k in range (data.shape[2]):\n",
        "                X[ij,:] = [i,j,k, data[i,j,k]]\n",
        "                ij +=1\n",
        "\n",
        "    np.save(data_path,X)\n",
        "    return X"
      ],
      "execution_count": 3,
      "outputs": []
    },
    {
      "cell_type": "code",
      "metadata": {
        "colab": {
          "base_uri": "https://localhost:8080/"
        },
        "id": "ofOdZSE7eUXr",
        "outputId": "9912dd9e-bb5c-4bbe-ab7c-4f1ec262dabq"
      },
      "source": [
        "if os.path.isfile(data_path):\n",
        "    X = np.load(data_path)\n",
        "    print (\"Converted data loaded\")\n",
        "else:\n",
        "    X = load_data(data_path)\n",
        "    print (\"Converted data created\")"
      ],
      "execution_count": 12,
      "outputs": [
        {
          "output_type": "stream",
          "text": [
            "Converted data loaded\n"
          ],
          "name": "stdout"
        }
      ]
    },
    {
      "cell_type": "code",
      "metadata": {
        "id": "C5xix0njeUXu",
        "colab": {
          "base_uri": "https://localhost:8080/"
        },
        "outputId": "870b6027-a08d-40a5-f5ee-76762b20fb04"
      },
      "source": [
        "X"
      ],
      "execution_count": 15,
      "outputs": [
        {
          "output_type": "execute_result",
          "data": {
            "text/plain": [
              "array([[  0.,   0.,   0.,  32.],\n",
              "       [  0.,   0.,   1.,  29.],\n",
              "       [  0.,   0.,   2.,  31.],\n",
              "       ...,\n",
              "       [ 34., 102., 177., 104.],\n",
              "       [ 34., 102., 178., 104.],\n",
              "       [ 34., 102., 179., 103.]])"
            ]
          },
          "metadata": {
            "tags": []
          },
          "execution_count": 15
        }
      ]
    },
    {
      "cell_type": "code",
      "metadata": {
        "id": "FubufEE_eUXv"
      },
      "source": [
        "def cluster_resp(distances):\n",
        "    # Larger the distance to cluster `k` - less important the point for the cluster `k`\n",
        "    # That's why we calculate responsibilities using negative distance.\n",
        "    # Note that this is very similar to the `softmax` function.\n",
        "    d_exp = np.exp(-distances)\n",
        "    return d_exp / np.sum(d_exp, axis=1, keepdims=True)\n",
        "\n",
        "\n",
        "# Another way of measuring the quality of the clustering results.\n",
        "# Try to deduce the meaning of this `loss` on your own.\n",
        "# This measure can be used as a criteria for stopping the algorithm.\n",
        "def loss(X, M, R, dist_type):\n",
        "    loss = 0\n",
        "    for k in range(len(M)):\n",
        "        d = dist(X, M[k],dist_type)\n",
        "        loss += np.sum(R[:, k] * d * d)\n",
        "    \n",
        "    return loss"
      ],
      "execution_count": 6,
      "outputs": []
    },
    {
      "cell_type": "code",
      "metadata": {
        "id": "hyqcfSyaeUXw"
      },
      "source": [
        "\n",
        "def dist(x, y,dist_type):\n",
        "    if dist_type == \"euclidian\":\n",
        "        diff = x - y\n",
        "        dist = np.sqrt(np.sum(diff * diff, axis=-1))\n",
        "    \n",
        "    if dist_type == \"manhattan\":\n",
        "        diff = x - y\n",
        "        dist = np.sum(np.abs(diff), axis=-1)\n",
        "    \n",
        "    if dist_type == \"chebyshev\":\n",
        "        diff = x - y\n",
        "        dist = np.max(np.abs(diff), axis=-1)\n",
        "    \n",
        "    return dist\n",
        "\n",
        "\n",
        "def k_means(X, K, max_iter=15, max_attempts=10, dist_type = \"euclidian\"):\n",
        "    N, D = X.shape\n",
        "    # Labels\n",
        "    L = np.zeros(N)\n",
        "    # Cluster centers\n",
        "    M = np.zeros((K, D))\n",
        "    \n",
        "    for at in range(max_attempts):\n",
        "        # Randomly initialize the centers\n",
        "        for k in range(K):\n",
        "            M[k] = X[np.random.choice(N)]\n",
        "\n",
        "        # Start K-Means\n",
        "        for i in range(max_iter):\n",
        "            # Cluster the data according to current cluster centers.\n",
        "            # Calculate distances from each point to each cluster.\n",
        "            dists = []\n",
        "            for k in range(K):\n",
        "                # Distance to cluster k\n",
        "                dists += [dist(X, M[k], dist_type).reshape(-1, 1)]\n",
        "            \n",
        "            dists = np.hstack(dists) # [N, K]\n",
        "            L = np.argmin(dists, axis=1)\n",
        "            # Recalculate cluster centers\n",
        "            for k in range(K):\n",
        "                M[k] = X[L==k].mean(axis=0)\n",
        "\n",
        "\n",
        "        if(len(np.unique(L)))== K:       # i added clasterrisation control\n",
        "                break            \n",
        "        if i == (max_attempts-1):\n",
        "            print(\"max_attempts achived, try take another K\")\n",
        "            print(\"Current K\", len(np.unique(L)))\n",
        "    \n",
        "    #plot_colored_points(X, L)\n",
        "    return M, L"
      ],
      "execution_count": 45,
      "outputs": []
    },
    {
      "cell_type": "markdown",
      "metadata": {
        "id": "pov4LWm7eUXx"
      },
      "source": [
        "Soft K-Means is a modification of classical K-Means that allows you to estimate the probability of belonging a point to some cluster. It is also called 'fuzzy clustering'. The algorithm is the following:\n",
        "\n",
        "    Randomly initialize K cluster centers.\n",
        "    Calculate cluster responsibilities. Cluster responsibilities are the probabilities of belonging points to each cluster. (see `cluster_resp` function)\n",
        "    Recalculate the cluster centers according to the cluster responsibilities.\n",
        "    Do steps 2, 3 until convergence. The algorithm is converged when the cluster centers do not change (or change very little).\n"
      ]
    },
    {
      "cell_type": "code",
      "metadata": {
        "id": "97T9BI_7eUXx"
      },
      "source": [
        "def soft_k_means(X, K, dist_type = \"euclidian\", max_iter=15):\n",
        "    # Функция для расчета нечеткого k-means (с-means)\n",
        "    N, D = X.shape\n",
        "\n",
        "    # Responsibility matrix.\n",
        "    # R[i, j] = probability that point `i` belongs to cluster `j`\n",
        "    # or responsibility of the cluster `j` for the point `i`.\n",
        "    R = np.zeros((N, K))\n",
        "    # Cluster centers\n",
        "    M = np.zeros((K, D))\n",
        "    # Loss array\n",
        "    losses = []\n",
        "\n",
        "    # Randomly initialize the centers\n",
        "    for k in range(K):\n",
        "        M[k] = X[np.random.choice(N)]\n",
        "\n",
        "    # Start Soft K-Means\n",
        "    for i in range(max_iter):\n",
        "        # RECALCULATE RESPONSIBILITIES\n",
        "        # Calculate distances from each point to each cluster\n",
        "        dists = []\n",
        "        for m in range(K):\n",
        "            dists += [dist(X, M[m], dist_type).reshape(-1, 1)]\n",
        "        dists = np.hstack(dists)  # [N, K]\n",
        "\n",
        "        R = cluster_resp(dists)\n",
        "        # Recalculate cluster centers\n",
        "        for k in range(K):\n",
        "            M[k] = R[:, k].dot(X) / R[:, k].sum()\n",
        "\n",
        "        losses.append(loss(X, M, R,dist_type))\n",
        "\n",
        "    return M,R , losses"
      ],
      "execution_count": 44,
      "outputs": []
    },
    {
      "cell_type": "code",
      "metadata": {
        "id": "9zgexeTneUXy"
      },
      "source": [
        "# Internal metric\n",
        "\n",
        "def metrics_davies_bouldin(X, cluster_labels, distance=euclidean):\n",
        "    \"\"\"\n",
        "    Computes Davies Bouldin Index.\n",
        "    \n",
        "    Parameters\n",
        "    ----------\n",
        "    X : ndarray\n",
        "        Data points. Shape [n_points, num_features].\n",
        "    cluster_labels : ndarray\n",
        "        Contains clustering labels. Shape [n_points].\n",
        "    distance : function\n",
        "        Python function with API: distance(vector_a, vector_b) -> float.\n",
        "    \n",
        "    Returns\n",
        "    -------\n",
        "    float\n",
        "        Davies Bouldin Index.\n",
        "    \"\"\"\n",
        "    n_cluster = len(np.bincount(cluster_labels))\n",
        "    cluster_k = [X[cluster_labels == k] for k in range(n_cluster)]\n",
        "    centroids = [np.mean(k, axis = 0) for k in cluster_k]\n",
        "    variances = [np.mean([distance(p, centroids[i]) for p in k]) for i, k in enumerate(cluster_k)]\n",
        "    db = []\n",
        "    \n",
        "    for i in range(n_cluster):\n",
        "        for j in range(n_cluster):\n",
        "            if (j != i) and (~np.isnan(centroids[i]).any() and ~np.isnan(centroids[j]).any()): \n",
        "                db.append((variances[i] + variances[j]) / distance(centroids[i],centroids[j]))\n",
        "    #print(len(db))\n",
        "    return(np.max(db) / n_cluster)"
      ],
      "execution_count": 9,
      "outputs": []
    },
    {
      "cell_type": "markdown",
      "metadata": {
        "id": "JDq27YfbeUXy"
      },
      "source": [
        "# Compute metrics and find optimum K  with K-means "
      ]
    },
    {
      "cell_type": "code",
      "metadata": {
        "id": "Ik-Qh8eheUXy"
      },
      "source": [
        "# In case of internal evaluation you can judge the results only by comparison\n",
        "max_k = 30\n",
        "start_k = 2 \n",
        "metric_arr1=np.zeros((max_k,start_k))\n",
        "metric_arr2=np.zeros((max_k,start_k))\n",
        "metric_arr3=np.zeros((max_k,start_k))\n",
        "K_optimums = np.zeros((3))\n",
        "\n",
        "for i in range(start_k,max_k):\n",
        "    M, L = k_means(X, K=i, dist_type = \"euclidian\")\n",
        "    metric_arr1[i] = i, metrics_davies_bouldin(X, L)  \n",
        "    #print(f'Converged: {metric_arr1[i]}')\n",
        "    print(\"euclidian ok\", i)\n",
        "\n",
        "for i in range(start_k,max_k):\n",
        "    M, L = k_means(X, K = i, dist_type = \"manhattan\")\n",
        "    metric_arr2[i] = i, metrics_davies_bouldin(X, L)  \n",
        "    #print(f'Converged: {metric_arr1[i]}')\n",
        "    print(\"manhattan ok\", i)\n",
        "    \n",
        "for i in range(start_k,max_k):\n",
        "    M, L = k_means(X, K=i, dist_type = \"chebyshev\")\n",
        "    metric_arr3[i] = i, metrics_davies_bouldin(X, L)  \n",
        "    #print(f'Converged: {metric_arr1[i]}')\n",
        "    print(\"chebyshev ok\", i)             "
      ],
      "execution_count": null,
      "outputs": []
    },
    {
      "cell_type": "code",
      "metadata": {
        "id": "eW_2zJweeUXz",
        "colab": {
          "base_uri": "https://localhost:8080/"
        },
        "outputId": "9250f74c-f408-4bbe-b838-2ac8826234c6"
      },
      "source": [
        "# find optimums\n",
        "K_optimums[0] = KneeLocator(metric_arr1[start_k:,0], metric_arr1[start_k:,1], curve='convex', direction='decreasing').knee\n",
        "K_optimums[1] = KneeLocator(metric_arr2[start_k:,0], metric_arr2[start_k:,1], curve='convex', direction='decreasing').knee\n",
        "K_optimums[2] = KneeLocator(metric_arr3[start_k:,0], metric_arr3[start_k:,1], curve='convex', direction='decreasing').knee\n",
        "\n",
        "print(\"******************\")\n",
        "print(\"OPTIMAL K values:\")\n",
        "print(K_optimums)\n",
        "K_choised = min(K_optimums)\n",
        "print(\"******************\")\n",
        "np.save(\"result_euclidian_\" + str(K_choised) + \".npy\",metric_arr1)"
      ],
      "execution_count": 63,
      "outputs": [
        {
          "output_type": "stream",
          "text": [
            "******************\n",
            "OPTIMAL K values:\n",
            "[10. 13.  9.]\n",
            "******************\n"
          ],
          "name": "stdout"
        }
      ]
    },
    {
      "cell_type": "code",
      "metadata": {
        "id": "rQzFDaokeUX0",
        "colab": {
          "base_uri": "https://localhost:8080/",
          "height": 826
        },
        "outputId": "ad4e87dc-55af-40eb-ee98-7bcd2ebf8156"
      },
      "source": [
        "# visualise \"euclidian\",\"manhattan\",\"chebyshev\" in with K-means cases \n",
        "\n",
        "metric_arr_full = np.concatenate((metric_arr1, metric_arr2,metric_arr3), axis=1)\n",
        "metric_arr_full = metric_arr_full[:,(0,1,3,5)]\n",
        "titles = [\"euclidian\",\"manhattan\",\"chebyshev\"]\n",
        "fig, axs = plt.subplots(3, 1, constrained_layout=True,figsize=(5, 10), dpi=80,)\n",
        "for j in range(3):\n",
        "    axs[j].plot(metric_arr_full[start_k :,0], metric_arr_full[start_k :,1+j])\n",
        "    axs[j].set_title(titles[j])\n",
        "    axs[j].set_xlabel('K')\n",
        "    axs[j].set_ylabel('Davies metric')"
      ],
      "execution_count": 61,
      "outputs": [
        {
          "output_type": "display_data",
          "data": {
            "image/png": "[encoded data removed]",
            "text/plain": [
              "<Figure size 400x800 with 3 Axes>"
            ]
          },
          "metadata": {
            "tags": [],
            "needs_background": "light"
          }
        }
      ]
    },
    {
      "cell_type": "markdown",
      "metadata": {
        "id": "u6kHwtlmeUX9"
      },
      "source": [
        "# Compute metrics and find optimum K  with Soft K-means "
      ]
    },
    {
      "cell_type": "code",
      "metadata": {
        "id": "md1BwiLMeUX9"
      },
      "source": [
        "max_k = 30\n",
        "start_k = 2 \n",
        "metric_soft_arr1=np.zeros((max_k,start_k))\n",
        "metric_soft_arr2=np.zeros((max_k,start_k))\n",
        "metric_soft_arr3=np.zeros((max_k,start_k))\n",
        "\n",
        "K_optimums = np.zeros((3))\n",
        "\n",
        "for i in range(start_k,max_k):\n",
        "    M, R ,l = soft_k_means(X, K=i, dist_type = \"euclidian\")\n",
        "    L_soft = np.argmax(R, axis=1)\n",
        "    metric_soft_arr1[i] = i, metrics_davies_bouldin(X, L_soft)  \n",
        "    #print(f'Converged: {metric_arr1[i]}')\n",
        "    print(\"euclidian ok\", i)\n",
        "\n",
        "for i in range(start_k,max_k):\n",
        "    M, R ,l = soft_k_means(X, K = i, dist_type = \"manhattan\")\n",
        "    L_soft = np.argmax(R, axis=1)\n",
        "    metric_soft_arr2[i] = i, metrics_davies_bouldin(X, L_soft)  \n",
        "    #print(f'Converged: {metric_arr1[i]}')\n",
        "    print(\"manhattan ok\", i) \n",
        "\n",
        "for i in range(start_k,max_k):\n",
        "    M, R, l = soft_k_means(X, K=i, dist_type = \"chebyshev\")\n",
        "    L_soft = np.argmax(R, axis=1)\n",
        "    metric_soft_arr3[i] = i, metrics_davies_bouldin(X, L_soft)   \n",
        "    #print(f'Converged: {metric_arr1[i]}')  \n",
        "    print(\"chebyshev ok\", i)"
      ],
      "execution_count": null,
      "outputs": []
    },
    {
      "cell_type": "code",
      "metadata": {
        "id": "yucMN-XleUX-",
        "colab": {
          "base_uri": "https://localhost:8080/"
        },
        "outputId": "9a894f1a-1469-49fc-d714-cdc8e97ba467"
      },
      "source": [
        "# find optimums \n",
        "K_optimums[0] = KneeLocator(metric_soft_arr1[start_k:,0], metric_soft_arr1[start_k:,1], curve='convex', direction='decreasing').knee\n",
        "K_optimums[1] = KneeLocator(metric_soft_arr2[start_k:,0], metric_soft_arr2[start_k:,1], curve='convex', direction='decreasing').knee\n",
        "K_optimums[2] = KneeLocator(metric_soft_arr3[start_k:,0], metric_soft_arr3[start_k:,1], curve='convex', direction='decreasing').knee\n",
        "\n",
        "print(\"******************\")\n",
        "print(\"OPTIMAL K values:\")\n",
        "print(\"******************\")\n",
        "print(K_optimums)\n",
        "K_choised = min(K_optimums)\n",
        "np.save(\"result_euclidian_\" + str(K_choised) + \".npy\",metric_soft_arr1)"
      ],
      "execution_count": 74,
      "outputs": [
        {
          "output_type": "stream",
          "text": [
            "******************\n",
            "OPTIMAL K values:\n",
            "******************\n",
            "[12. 11. 13.]\n"
          ],
          "name": "stdout"
        }
      ]
    },
    {
      "cell_type": "code",
      "metadata": {
        "id": "yj178929eUX_",
        "colab": {
          "base_uri": "https://localhost:8080/",
          "height": 826
        },
        "outputId": "c09e9af1-61f6-4795-f246-23c9a434e333"
      },
      "source": [
        "# visualise \"euclidian\",\"manhattan\",\"chebyshev\" in with soft K-means cases \n",
        "\n",
        "metric_arr_soft_full = np.concatenate((metric_soft_arr1, metric_soft_arr2,metric_soft_arr3), axis=1)\n",
        "metric_arr_soft_full = metric_arr_soft_full[:,(0,1,3,5)]\n",
        "titles = [\"euclidian\",\"manhattan\",\"chebyshev\"]\n",
        "fig, axs = plt.subplots(3, 1, constrained_layout=True,figsize=(5, 10), dpi=80,)\n",
        "for j in range(3):\n",
        "    axs[j].plot(metric_arr_soft_full[start_k:,0],metric_arr_soft_full[start_k:,1+j])\n",
        "    axs[j].set_title(titles[j])\n",
        "    axs[j].set_xlabel('K')\n",
        "    axs[j].set_ylabel('Davies metric')"
      ],
      "execution_count": 71,
      "outputs": [
        {
          "output_type": "display_data",
          "data": {
            "image/png": "[encoded data removed]",
            "text/plain": [
              "<Figure size 400x800 with 3 Axes>"
            ]
          },
          "metadata": {
            "tags": [],
            "needs_background": "light"
          }
        }
      ]
    },
    {
      "cell_type": "code",
      "metadata": {
        "id": "kB7EYR1HeUX_"
      },
      "source": [
        ""
      ],
      "execution_count": null,
      "outputs": []
    },
    {
      "cell_type": "markdown",
      "metadata": {
        "id": "Ao5joxYteUX_"
      },
      "source": [
        "# Conclusion"
      ]
    },
    {
      "cell_type": "markdown",
      "metadata": {
        "id": "KtQhrMgSeUYA"
      },
      "source": [
        "1)K-Means result is highly dependent on the initial values of the cluster centers, so you can try other ways of initializing.\n",
        "\n",
        "2) With Knee-point we can find Optimum on metrics that to find number K.\n",
        " In current work optimal K starts from **9 to 13** (we calculated metrics with different distance metrics)\n",
        "\n",
        "3) Soft K-Means can achieve separation in ambiguous data than just K-Means.\n",
        "\n",
        "4) Very slow computting on CPU"
      ]
    },
    {
      "cell_type": "markdown",
      "metadata": {
        "id": "dudUYE-WeUYA"
      },
      "source": [
        "## Task"
      ]
    },
    {
      "cell_type": "markdown",
      "metadata": {
        "id": "Ea1GvlQ3eUYA"
      },
      "source": [
        "Use the given data and cluster it using K-Means and its `soft` version, compare results. Find the number of clusters that yields the highest purity, use different distance metrics: euclidean distance, manhattan distance, сhebyshev distance. Plot the graphs of purity and DBI values depending on the `K` for each of the distance metrics."
      ]
    }
  ]
}